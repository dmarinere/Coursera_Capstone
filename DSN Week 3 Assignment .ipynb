{
    "cells": [
        {
            "cell_type": "code",
            "execution_count": 3,
            "metadata": {},
            "outputs": [],
            "source": "import matplotlib.pyplot as plt\nimport pandas as pd\nimport numpy as np\nimport seaborn as sns"
        },
        {
            "cell_type": "code",
            "execution_count": 4,
            "metadata": {},
            "outputs": [
                {
                    "data": {
                        "text/html": "<div>\n<style scoped>\n    .dataframe tbody tr th:only-of-type {\n        vertical-align: middle;\n    }\n\n    .dataframe tbody tr th {\n        vertical-align: top;\n    }\n\n    .dataframe thead th {\n        text-align: right;\n    }\n</style>\n<table border=\"1\" class=\"dataframe\">\n  <thead>\n    <tr style=\"text-align: right;\">\n      <th></th>\n      <th>passenger_id</th>\n      <th>pclass</th>\n      <th>name</th>\n      <th>sex</th>\n      <th>age</th>\n      <th>sibsp</th>\n      <th>parch</th>\n      <th>ticket</th>\n      <th>fare</th>\n      <th>cabin</th>\n      <th>embarked</th>\n      <th>boat</th>\n      <th>body</th>\n      <th>home.dest</th>\n      <th>survived</th>\n    </tr>\n  </thead>\n  <tbody>\n    <tr>\n      <th>0</th>\n      <td>1216</td>\n      <td>3</td>\n      <td>Smyth, Miss. Julia</td>\n      <td>female</td>\n      <td>NaN</td>\n      <td>0</td>\n      <td>0</td>\n      <td>335432</td>\n      <td>7.7333</td>\n      <td>NaN</td>\n      <td>Q</td>\n      <td>13</td>\n      <td>NaN</td>\n      <td>NaN</td>\n      <td>1</td>\n    </tr>\n    <tr>\n      <th>1</th>\n      <td>699</td>\n      <td>3</td>\n      <td>Cacic, Mr. Luka</td>\n      <td>male</td>\n      <td>38.0</td>\n      <td>0</td>\n      <td>0</td>\n      <td>315089</td>\n      <td>8.6625</td>\n      <td>NaN</td>\n      <td>S</td>\n      <td>NaN</td>\n      <td>NaN</td>\n      <td>Croatia</td>\n      <td>0</td>\n    </tr>\n    <tr>\n      <th>2</th>\n      <td>1267</td>\n      <td>3</td>\n      <td>Van Impe, Mrs. Jean Baptiste (Rosalie Paula Go...</td>\n      <td>female</td>\n      <td>30.0</td>\n      <td>1</td>\n      <td>1</td>\n      <td>345773</td>\n      <td>24.1500</td>\n      <td>NaN</td>\n      <td>S</td>\n      <td>NaN</td>\n      <td>NaN</td>\n      <td>NaN</td>\n      <td>0</td>\n    </tr>\n    <tr>\n      <th>3</th>\n      <td>449</td>\n      <td>2</td>\n      <td>Hocking, Mrs. Elizabeth (Eliza Needs)</td>\n      <td>female</td>\n      <td>54.0</td>\n      <td>1</td>\n      <td>3</td>\n      <td>29105</td>\n      <td>23.0000</td>\n      <td>NaN</td>\n      <td>S</td>\n      <td>4</td>\n      <td>NaN</td>\n      <td>Cornwall / Akron, OH</td>\n      <td>1</td>\n    </tr>\n    <tr>\n      <th>4</th>\n      <td>576</td>\n      <td>2</td>\n      <td>Veal, Mr. James</td>\n      <td>male</td>\n      <td>40.0</td>\n      <td>0</td>\n      <td>0</td>\n      <td>28221</td>\n      <td>13.0000</td>\n      <td>NaN</td>\n      <td>S</td>\n      <td>NaN</td>\n      <td>NaN</td>\n      <td>Barre, Co Washington, VT</td>\n      <td>0</td>\n    </tr>\n  </tbody>\n</table>\n</div>",
                        "text/plain": "   passenger_id  pclass                                               name  \\\n0          1216       3                                 Smyth, Miss. Julia   \n1           699       3                                    Cacic, Mr. Luka   \n2          1267       3  Van Impe, Mrs. Jean Baptiste (Rosalie Paula Go...   \n3           449       2              Hocking, Mrs. Elizabeth (Eliza Needs)   \n4           576       2                                    Veal, Mr. James   \n\n      sex   age  sibsp  parch  ticket     fare cabin embarked boat  body  \\\n0  female   NaN      0      0  335432   7.7333   NaN        Q   13   NaN   \n1    male  38.0      0      0  315089   8.6625   NaN        S  NaN   NaN   \n2  female  30.0      1      1  345773  24.1500   NaN        S  NaN   NaN   \n3  female  54.0      1      3   29105  23.0000   NaN        S    4   NaN   \n4    male  40.0      0      0   28221  13.0000   NaN        S  NaN   NaN   \n\n                  home.dest  survived  \n0                       NaN         1  \n1                   Croatia         0  \n2                       NaN         0  \n3      Cornwall / Akron, OH         1  \n4  Barre, Co Washington, VT         0  "
                    },
                    "execution_count": 4,
                    "metadata": {},
                    "output_type": "execute_result"
                }
            ],
            "source": "df= pd.read_csv(\"titanic_train.csv\")\ndf.head()"
        },
        {
            "cell_type": "code",
            "execution_count": 5,
            "metadata": {},
            "outputs": [
                {
                    "data": {
                        "text/html": "<div>\n<style scoped>\n    .dataframe tbody tr th:only-of-type {\n        vertical-align: middle;\n    }\n\n    .dataframe tbody tr th {\n        vertical-align: top;\n    }\n\n    .dataframe thead th {\n        text-align: right;\n    }\n</style>\n<table border=\"1\" class=\"dataframe\">\n  <thead>\n    <tr style=\"text-align: right;\">\n      <th></th>\n      <th>passenger_id</th>\n      <th>pclass</th>\n      <th>age</th>\n      <th>sibsp</th>\n      <th>parch</th>\n      <th>fare</th>\n      <th>body</th>\n      <th>survived</th>\n    </tr>\n  </thead>\n  <tbody>\n    <tr>\n      <th>count</th>\n      <td>850.000000</td>\n      <td>850.00000</td>\n      <td>676.000000</td>\n      <td>850.000000</td>\n      <td>850.000000</td>\n      <td>849.000000</td>\n      <td>73.000000</td>\n      <td>850.000000</td>\n    </tr>\n    <tr>\n      <th>mean</th>\n      <td>662.816471</td>\n      <td>2.32000</td>\n      <td>29.519847</td>\n      <td>0.522353</td>\n      <td>0.382353</td>\n      <td>34.012701</td>\n      <td>165.821918</td>\n      <td>0.368235</td>\n    </tr>\n    <tr>\n      <th>std</th>\n      <td>380.751936</td>\n      <td>0.83853</td>\n      <td>14.562243</td>\n      <td>1.112132</td>\n      <td>0.879511</td>\n      <td>53.705779</td>\n      <td>99.068487</td>\n      <td>0.482610</td>\n    </tr>\n    <tr>\n      <th>min</th>\n      <td>1.000000</td>\n      <td>1.00000</td>\n      <td>0.166700</td>\n      <td>0.000000</td>\n      <td>0.000000</td>\n      <td>0.000000</td>\n      <td>4.000000</td>\n      <td>0.000000</td>\n    </tr>\n    <tr>\n      <th>25%</th>\n      <td>332.250000</td>\n      <td>2.00000</td>\n      <td>20.000000</td>\n      <td>0.000000</td>\n      <td>0.000000</td>\n      <td>7.895800</td>\n      <td>75.000000</td>\n      <td>0.000000</td>\n    </tr>\n    <tr>\n      <th>50%</th>\n      <td>676.500000</td>\n      <td>3.00000</td>\n      <td>28.000000</td>\n      <td>0.000000</td>\n      <td>0.000000</td>\n      <td>14.108300</td>\n      <td>166.000000</td>\n      <td>0.000000</td>\n    </tr>\n    <tr>\n      <th>75%</th>\n      <td>992.250000</td>\n      <td>3.00000</td>\n      <td>37.000000</td>\n      <td>1.000000</td>\n      <td>0.000000</td>\n      <td>31.000000</td>\n      <td>260.000000</td>\n      <td>1.000000</td>\n    </tr>\n    <tr>\n      <th>max</th>\n      <td>1307.000000</td>\n      <td>3.00000</td>\n      <td>80.000000</td>\n      <td>8.000000</td>\n      <td>9.000000</td>\n      <td>512.329200</td>\n      <td>328.000000</td>\n      <td>1.000000</td>\n    </tr>\n  </tbody>\n</table>\n</div>",
                        "text/plain": "       passenger_id     pclass         age       sibsp       parch  \\\ncount    850.000000  850.00000  676.000000  850.000000  850.000000   \nmean     662.816471    2.32000   29.519847    0.522353    0.382353   \nstd      380.751936    0.83853   14.562243    1.112132    0.879511   \nmin        1.000000    1.00000    0.166700    0.000000    0.000000   \n25%      332.250000    2.00000   20.000000    0.000000    0.000000   \n50%      676.500000    3.00000   28.000000    0.000000    0.000000   \n75%      992.250000    3.00000   37.000000    1.000000    0.000000   \nmax     1307.000000    3.00000   80.000000    8.000000    9.000000   \n\n             fare        body    survived  \ncount  849.000000   73.000000  850.000000  \nmean    34.012701  165.821918    0.368235  \nstd     53.705779   99.068487    0.482610  \nmin      0.000000    4.000000    0.000000  \n25%      7.895800   75.000000    0.000000  \n50%     14.108300  166.000000    0.000000  \n75%     31.000000  260.000000    1.000000  \nmax    512.329200  328.000000    1.000000  "
                    },
                    "execution_count": 5,
                    "metadata": {},
                    "output_type": "execute_result"
                }
            ],
            "source": "df.describe()"
        },
        {
            "cell_type": "code",
            "execution_count": 6,
            "metadata": {},
            "outputs": [
                {
                    "name": "stdout",
                    "output_type": "stream",
                    "text": "<class 'pandas.core.frame.DataFrame'>\nRangeIndex: 850 entries, 0 to 849\nData columns (total 15 columns):\npassenger_id    850 non-null int64\npclass          850 non-null int64\nname            850 non-null object\nsex             850 non-null object\nage             676 non-null float64\nsibsp           850 non-null int64\nparch           850 non-null int64\nticket          850 non-null object\nfare            849 non-null float64\ncabin           191 non-null object\nembarked        849 non-null object\nboat            308 non-null object\nbody            73 non-null float64\nhome.dest       464 non-null object\nsurvived        850 non-null int64\ndtypes: float64(3), int64(5), object(7)\nmemory usage: 99.7+ KB\n"
                }
            ],
            "source": "df.info() #this give us information on the numbers of missing data,\n#the kinds of objects we have and the number of rows and column"
        },
        {
            "cell_type": "code",
            "execution_count": 7,
            "metadata": {
                "scrolled": true
            },
            "outputs": [
                {
                    "data": {
                        "text/plain": "passenger_id      0\npclass            0\nname              0\nsex               0\nage             174\nsibsp             0\nparch             0\nticket            0\nfare              1\ncabin           659\nembarked          1\nboat            542\nbody            777\nhome.dest       386\nsurvived          0\ndtype: int64"
                    },
                    "execution_count": 7,
                    "metadata": {},
                    "output_type": "execute_result"
                }
            ],
            "source": "df.isnull().sum()  #This code shows the total number of missing values in the dataset titanic"
        },
        {
            "cell_type": "markdown",
            "metadata": {},
            "source": "The first thing i would do to age is fill the missing values i would use the mean to fill it so it would still be uniform and wouldnt affect the data in many ways."
        },
        {
            "cell_type": "code",
            "execution_count": 8,
            "metadata": {
                "scrolled": true
            },
            "outputs": [],
            "source": "df[\"age\"].fillna((df[\"age\"].median()), inplace=True)\n#This fill all the missing columns in age with the median, inplace helps us make the change permanent"
        },
        {
            "cell_type": "code",
            "execution_count": 16,
            "metadata": {},
            "outputs": [],
            "source": "df['age']= (df['age']//10)*10\n#i want to set all the data in age column to be in a range of 10,20,30,40,50,60 etc. so it would be easy for me to plot"
        },
        {
            "cell_type": "code",
            "execution_count": 27,
            "metadata": {},
            "outputs": [],
            "source": "#i want to sort all the values in age so i would be able to plot the data easily\ndf.sort_values(by=['age'], inplace=True)"
        },
        {
            "cell_type": "code",
            "execution_count": 34,
            "metadata": {},
            "outputs": [
                {
                    "data": {
                        "text/plain": "0.0      56\n10.0     99\n20.0    394\n30.0    152\n40.0     72\n50.0     52\n60.0     20\n70.0      4\n80.0      1\nName: age, dtype: int64"
                    },
                    "execution_count": 34,
                    "metadata": {},
                    "output_type": "execute_result"
                }
            ],
            "source": "df['age'].value_counts(sort=False) #i used false because normally it would start from the maximum to minimum and\n#that would affect the graph  "
        },
        {
            "cell_type": "code",
            "execution_count": 35,
            "metadata": {},
            "outputs": [
                {
                    "data": {
                        "image/png": "[encoded data removed]",
                        "text/plain": "<Figure size 720x432 with 1 Axes>"
                    },
                    "metadata": {
                        "needs_background": "light"
                    },
                    "output_type": "display_data"
                }
            ],
            "source": "df['age'].value_counts(sort=False).plot(kind='bar', figsize=(10,6), rot=0) \nplt.xlabel(\"Age Range\")\nplt.ylabel(\"Count of People\" )\nplt.title(\"Count of People that boarded the Titanic by Age\" )\nplt.xticks(ticks=(np.arange(0,10)), labels=('0-9','10-19','20-29','30-39','40-49','50-59','60-69','70-79','80-89'))\nplt.show()"
        },
        {
            "cell_type": "code",
            "execution_count": null,
            "metadata": {},
            "outputs": [],
            "source": ""
        },
        {
            "cell_type": "code",
            "execution_count": null,
            "metadata": {},
            "outputs": [],
            "source": ""
        }
    ],
    "metadata": {
        "kernelspec": {
            "display_name": "Python 3.6",
            "language": "python",
            "name": "python3"
        },
        "language_info": {
            "codemirror_mode": {
                "name": "ipython",
                "version": 3
            },
            "file_extension": ".py",
            "mimetype": "text/x-python",
            "name": "python",
            "nbconvert_exporter": "python",
            "pygments_lexer": "ipython3",
            "version": "3.6.9"
        }
    },
    "nbformat": 4,
    "nbformat_minor": 2
}